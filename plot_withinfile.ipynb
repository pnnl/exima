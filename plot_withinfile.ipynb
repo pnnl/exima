{
 "cells": [
  {
   "cell_type": "code",
   "execution_count": 1,
   "metadata": {},
   "outputs": [],
   "source": [
    "import matplotlib.pyplot as plt\n",
    "import numpy as np\n",
    "import scipy\n",
    "import seaborn as sns\n",
    "import matplotlib.cm as cm\n",
    "import pandas as pd"
   ]
  },
  {
   "cell_type": "code",
   "execution_count": 2,
   "metadata": {},
   "outputs": [],
   "source": [
    "# Adapted from https://github.com/mwaskom/seaborn/issues/2280\n",
    "def control_legend(ax, **kws):\n",
    "    old_legend = ax.legend_\n",
    "    handles = old_legend.legendHandles\n",
    "    labels = [t.get_text() for t in old_legend.get_texts()]\n",
    "    title = old_legend.get_title().get_text()\n",
    "    ax.legend(handles, labels, title=title, **kws)"
   ]
  },
  {
   "cell_type": "code",
   "execution_count": 3,
   "metadata": {},
   "outputs": [
    {
     "data": {
      "text/html": [
       "<div>\n",
       "<style scoped>\n",
       "    .dataframe tbody tr th:only-of-type {\n",
       "        vertical-align: middle;\n",
       "    }\n",
       "\n",
       "    .dataframe tbody tr th {\n",
       "        vertical-align: top;\n",
       "    }\n",
       "\n",
       "    .dataframe thead th {\n",
       "        text-align: right;\n",
       "    }\n",
       "</style>\n",
       "<table border=\"1\" class=\"dataframe\">\n",
       "  <thead>\n",
       "    <tr style=\"text-align: right;\">\n",
       "      <th></th>\n",
       "      <th>i</th>\n",
       "      <th>j</th>\n",
       "      <th>(i, j)</th>\n",
       "      <th>Root</th>\n",
       "      <th>Chitin Band</th>\n",
       "      <th>Level</th>\n",
       "      <th>Close2Root</th>\n",
       "      <th>Close2Chitin</th>\n",
       "      <th>Close2Both</th>\n",
       "      <th>Dist2Root</th>\n",
       "      <th>Dist2Chitin</th>\n",
       "      <th>Dist2Both</th>\n",
       "      <th>Stain</th>\n",
       "      <th>Both</th>\n",
       "      <th>RawStain</th>\n",
       "    </tr>\n",
       "  </thead>\n",
       "  <tbody>\n",
       "    <tr>\n",
       "      <th>0</th>\n",
       "      <td>0</td>\n",
       "      <td>0</td>\n",
       "      <td>(0, 0)</td>\n",
       "      <td>True</td>\n",
       "      <td>False</td>\n",
       "      <td>A</td>\n",
       "      <td>False</td>\n",
       "      <td>False</td>\n",
       "      <td>False</td>\n",
       "      <td>0.0</td>\n",
       "      <td>NaN</td>\n",
       "      <td>0.0</td>\n",
       "      <td>11.710828</td>\n",
       "      <td>False</td>\n",
       "      <td>255</td>\n",
       "    </tr>\n",
       "    <tr>\n",
       "      <th>1</th>\n",
       "      <td>0</td>\n",
       "      <td>1</td>\n",
       "      <td>(0, 1)</td>\n",
       "      <td>True</td>\n",
       "      <td>False</td>\n",
       "      <td>A</td>\n",
       "      <td>False</td>\n",
       "      <td>False</td>\n",
       "      <td>False</td>\n",
       "      <td>0.0</td>\n",
       "      <td>NaN</td>\n",
       "      <td>0.0</td>\n",
       "      <td>11.710828</td>\n",
       "      <td>False</td>\n",
       "      <td>255</td>\n",
       "    </tr>\n",
       "    <tr>\n",
       "      <th>2</th>\n",
       "      <td>0</td>\n",
       "      <td>2</td>\n",
       "      <td>(0, 2)</td>\n",
       "      <td>False</td>\n",
       "      <td>False</td>\n",
       "      <td>A</td>\n",
       "      <td>False</td>\n",
       "      <td>False</td>\n",
       "      <td>False</td>\n",
       "      <td>1.0</td>\n",
       "      <td>NaN</td>\n",
       "      <td>1.0</td>\n",
       "      <td>11.710828</td>\n",
       "      <td>False</td>\n",
       "      <td>255</td>\n",
       "    </tr>\n",
       "    <tr>\n",
       "      <th>3</th>\n",
       "      <td>0</td>\n",
       "      <td>3</td>\n",
       "      <td>(0, 3)</td>\n",
       "      <td>False</td>\n",
       "      <td>False</td>\n",
       "      <td>A</td>\n",
       "      <td>False</td>\n",
       "      <td>False</td>\n",
       "      <td>False</td>\n",
       "      <td>2.0</td>\n",
       "      <td>NaN</td>\n",
       "      <td>2.0</td>\n",
       "      <td>11.710828</td>\n",
       "      <td>False</td>\n",
       "      <td>255</td>\n",
       "    </tr>\n",
       "    <tr>\n",
       "      <th>4</th>\n",
       "      <td>0</td>\n",
       "      <td>4</td>\n",
       "      <td>(0, 4)</td>\n",
       "      <td>False</td>\n",
       "      <td>False</td>\n",
       "      <td>A</td>\n",
       "      <td>False</td>\n",
       "      <td>False</td>\n",
       "      <td>False</td>\n",
       "      <td>3.0</td>\n",
       "      <td>NaN</td>\n",
       "      <td>3.0</td>\n",
       "      <td>11.710828</td>\n",
       "      <td>False</td>\n",
       "      <td>255</td>\n",
       "    </tr>\n",
       "  </tbody>\n",
       "</table>\n",
       "</div>"
      ],
      "text/plain": [
       "   i  j  (i, j)   Root  Chitin Band Level  Close2Root  Close2Chitin  \\\n",
       "0  0  0  (0, 0)   True        False     A       False         False   \n",
       "1  0  1  (0, 1)   True        False     A       False         False   \n",
       "2  0  2  (0, 2)  False        False     A       False         False   \n",
       "3  0  3  (0, 3)  False        False     A       False         False   \n",
       "4  0  4  (0, 4)  False        False     A       False         False   \n",
       "\n",
       "   Close2Both  Dist2Root  Dist2Chitin  Dist2Both      Stain   Both  RawStain  \n",
       "0       False        0.0          NaN        0.0  11.710828  False       255  \n",
       "1       False        0.0          NaN        0.0  11.710828  False       255  \n",
       "2       False        1.0          NaN        1.0  11.710828  False       255  \n",
       "3       False        2.0          NaN        2.0  11.710828  False       255  \n",
       "4       False        3.0          NaN        3.0  11.710828  False       255  "
      ]
     },
     "execution_count": 3,
     "metadata": {},
     "output_type": "execute_result"
    }
   ],
   "source": [
    "# Load in data for single experiment\n",
    "experiment = 4\n",
    "output_path = f'output/FullFrame/Experiment {experiment}/'\n",
    "df = pd.read_pickle(output_path + 'df.pkl')\n",
    "\n",
    "# TODO: add mult factor for lower res image distances\n",
    "\n",
    "df.head()"
   ]
  },
  {
   "cell_type": "code",
   "execution_count": 4,
   "metadata": {},
   "outputs": [],
   "source": [
    "## Functions ##\n",
    "from matplotlib.offsetbox import AnchoredText\n",
    "\n",
    "def pval(m1, m2):\n",
    "    return round(scipy.stats.ttest_ind(m1, m2)[1], 2)\n",
    "\n",
    "def add_pvalues(ax, df, x_col, y_col, loc):\n",
    "    # ax: to draw on\n",
    "    # df: to pull data from\n",
    "    # x_col: to be split into unique values\n",
    "    # y_col: to perform stats on\n",
    "    # loc: matplotlib style legend location string\n",
    "\n",
    "    # Form text block\n",
    "    text = 'P-values:'\n",
    "    classes = df[x_col].unique()\n",
    "    for i, a in enumerate(classes):\n",
    "        temp_a = df[df[x_col] == a][y_col]  # Pull a values\n",
    "        for b in classes[i + 1:]:\n",
    "            temp_b = df[df[x_col] == b][y_col]  # Pull b values\n",
    "\n",
    "            if len(temp_a) > 0 and len(temp_b) > 0:\n",
    "                res = pval(temp_a, temp_b)  # Calculate P-value\n",
    "                if res <= 0.001:\n",
    "                    res = '<0.001'\n",
    "            else:\n",
    "                res = 'NaN'\n",
    "\n",
    "            # Add result to text\n",
    "            text += '\\n'\n",
    "            text += '   {} vs. {}: {}'.format(a, b, res)\n",
    "\n",
    "    # Add to plot\n",
    "    anc = AnchoredText(text, loc=loc, frameon=False)\n",
    "    ax.add_artist(anc)\n"
   ]
  },
  {
   "cell_type": "code",
   "execution_count": 5,
   "metadata": {},
   "outputs": [
    {
     "data": {
      "image/png": "[encoded data removed]",
      "text/plain": [
       "<Figure size 720x288 with 3 Axes>"
      ]
     },
     "metadata": {
      "needs_background": "light"
     },
     "output_type": "display_data"
    }
   ],
   "source": [
    "# Split by classification and level with a new subplot for each level\n",
    "fig, axes = plt.subplots(1, 3, figsize=(10, 4), sharey=True)\n",
    "plt.subplots_adjust(wspace=0.2)\n",
    "for level, ax in zip(df['Level'].unique(), axes.flatten()):\n",
    "    temp = df[df['Level'] == level]\n",
    "    sns.barplot(data=temp, x='Root', y='RawStain', ax=ax, order=[False, True])\n",
    "    \n",
    "    ax.set_ylabel(None)\n",
    "\n",
    "    # Each of these only has 2 classes\n",
    "    classes = [False, True]\n",
    "    x = temp[temp['Root'] == classes[0]]['RawStain']\n",
    "    y = temp[temp['Root'] == classes[1]]['RawStain']\n",
    "    if len(x) > 0 and len(y) > 0:\n",
    "        res = pval(x, y)\n",
    "        if res <= 0.001:\n",
    "            res = '<0.001'\n",
    "    else:\n",
    "        res = 'NaN'\n",
    "    ax.set_title('Level {} (P-value: {})'.format(level, res))\n",
    "\n",
    "axes[0].set_ylabel('Average Normalized Signal (AU)')\n",
    "plt.savefig(output_path + 'Barplot_Levels_Classes_Subplots_Pvalues',\n",
    "            dpi=400, bbox_inches='tight')\n",
    "plt.show()"
   ]
  },
  {
   "cell_type": "code",
   "execution_count": 6,
   "metadata": {},
   "outputs": [
    {
     "data": {
      "image/png": "[encoded data removed]",
      "text/plain": [
       "<Figure size 432x288 with 1 Axes>"
      ]
     },
     "metadata": {
      "needs_background": "light"
     },
     "output_type": "display_data"
    },
    {
     "data": {
      "image/png": "[encoded data removed]",
      "text/plain": [
       "<Figure size 432x288 with 1 Axes>"
      ]
     },
     "metadata": {
      "needs_background": "light"
     },
     "output_type": "display_data"
    }
   ],
   "source": [
    "# Split by classification and level, all in one plot\n",
    "ax = sns.barplot(data=df, x='Level', y='RawStain', hue='Root', hue_order=[False, True])\n",
    "plt.ylabel('Average Normalized Signal (AU)')\n",
    "control_legend(ax, bbox_to_anchor=(1.05, 1), loc=2, borderaxespad=0.)\n",
    "plt.savefig(output_path + 'Barplot_Levels_Classes',\n",
    "            dpi=400, bbox_inches='tight')\n",
    "plt.show()\n",
    "\n",
    "ax = sns.boxplot(data=df, x='Level', y='RawStain', hue='Root', showfliers=False, hue_order=[False, True])\n",
    "plt.ylabel('Normalized Signal (AU)')\n",
    "control_legend(ax, bbox_to_anchor=(1.05, 1), loc=2, borderaxespad=0.)\n",
    "plt.savefig(output_path + 'Boxplot_Levels_Classes',\n",
    "            dpi=400, bbox_inches='tight')\n",
    "plt.show()"
   ]
  },
  {
   "cell_type": "code",
   "execution_count": 7,
   "metadata": {},
   "outputs": [
    {
     "data": {
      "image/png": "[encoded data removed]",
      "text/plain": [
       "<Figure size 432x288 with 1 Axes>"
      ]
     },
     "metadata": {
      "needs_background": "light"
     },
     "output_type": "display_data"
    },
    {
     "data": {
      "image/png": "[encoded data removed]",
      "text/plain": [
       "<Figure size 432x288 with 1 Axes>"
      ]
     },
     "metadata": {
      "needs_background": "light"
     },
     "output_type": "display_data"
    }
   ],
   "source": [
    "# Compare across levels\n",
    "ax = sns.barplot(data=df, x='Level', y='RawStain')\n",
    "plt.ylabel('Average Normalized Signal (AU)')\n",
    "plt.savefig(output_path + 'Barplot_Levels',\n",
    "            dpi=400, bbox_inches='tight')\n",
    "add_pvalues(ax, df, 'Level', 'RawStain', 'upper center')\n",
    "plt.savefig(output_path + 'Barplot_Levels_Pvalues',\n",
    "            dpi=400, bbox_inches='tight')\n",
    "plt.show()\n",
    "\n",
    "ax = sns.boxplot(data=df, x='Level', y='RawStain', showfliers=False)\n",
    "plt.ylabel('Normalized Signal (AU)')\n",
    "plt.savefig(output_path + 'Boxplot_Levels',\n",
    "            dpi=400, bbox_inches='tight')\n",
    "plt.show()"
   ]
  },
  {
   "cell_type": "code",
   "execution_count": 8,
   "metadata": {},
   "outputs": [
    {
     "data": {
      "image/png": "[encoded data removed]",
      "text/plain": [
       "<Figure size 576x216 with 2 Axes>"
      ]
     },
     "metadata": {
      "needs_background": "light"
     },
     "output_type": "display_data"
    }
   ],
   "source": [
    "\n",
    "palette = ['#e41a1c', '#377eb8', '#4daf4a']\n",
    "temp_palette = [palette[0], palette[2], palette[1]]\n",
    "\n",
    "fig, axes = plt.subplots(1, 2, figsize=(8, 3), sharey=True, sharex=True)\n",
    "for ax, root in zip(axes.flatten(), [False, True]):\n",
    "    \n",
    "    temp = df.copy()\n",
    "    temp.loc[temp['Level'] == 'A', 'Dist2Chitin'] *= -1\n",
    "    temp = temp[temp['Root'] == root]\n",
    "\n",
    "    if len(temp) > 0:\n",
    "        sns.histplot(data=temp, x='Dist2Chitin', y='RawStain', hue='Level',\n",
    "                    hue_order=('A', 'C', 'B'), bins=21, palette=temp_palette, ax=ax,\n",
    "                    legend=~root, pthresh=0.05)\n",
    "    ax.set_xlabel('Distance to Chitin (pixels)')\n",
    "    \n",
    "    ax.set_xticks([-500, -250, 0, 250, 500])\n",
    "    ax.set_xticklabels([500, 250, 0, 250, 500])\n",
    "\n",
    "    legend = ax.get_legend()\n",
    "    if root:\n",
    "        ax.set_title('Root Pixels')\n",
    "        ax.set_ylabel(None)\n",
    "\n",
    "        if len(temp) > 0:  # Avoid errors\n",
    "            handles = legend.legendHandles\n",
    "            handles = [handles[0], handles[2], handles[1]]\n",
    "            legend.remove()\n",
    "            ax.legend(handles=handles, labels=['A', 'B', 'C'], title='Level', loc='upper right')\n",
    "            control_legend(ax, bbox_to_anchor=(1.05, 1), loc=2, borderaxespad=0.)\n",
    "\n",
    "    else:\n",
    "        ax.set_title('Soil Pixels')\n",
    "        ax.set_ylabel('Signal (AU)')\n",
    "        legend.remove()\n",
    "\n",
    "plt.savefig(output_path + f'Hist2D_Dist2Chitin', dpi=400, bbox_inches='tight')\n",
    "plt.show()"
   ]
  },
  {
   "cell_type": "code",
   "execution_count": 9,
   "metadata": {},
   "outputs": [
    {
     "data": {
      "image/png": "[encoded data removed]",
      "text/plain": [
       "<Figure size 360x648 with 3 Axes>"
      ]
     },
     "metadata": {
      "needs_background": "light"
     },
     "output_type": "display_data"
    }
   ],
   "source": [
    "temp = df.copy()\n",
    "temp = temp[['(i, j)', 'RawStain', 'Dist2Root', 'Dist2Chitin', 'Level']]\n",
    "temp['Dist2Root'] *= -1\n",
    "temp = temp.rename(columns={'Dist2Root': 'Root', 'Dist2Chitin': 'Chitin Band'})\n",
    "temp = temp.melt(id_vars=('(i, j)', 'Level', 'RawStain'), value_vars=('Root', 'Chitin Band'), var_name='Distance to')\n",
    "temp = temp[abs(temp['value']) < 50]\n",
    "\n",
    "fig, axes = plt.subplots(3, 1, figsize=(5, 9), sharey=True, sharex=True)\n",
    "plt.subplots_adjust(hspace=0.2)\n",
    "for level, ax in zip(df['Level'].unique(), axes.flatten()):\n",
    "    temp_level = temp[temp['Level'] == level]\n",
    "\n",
    "    # palette = ['#e41a1c', '#377eb8', '#4daf4a'] # TODO: choose 3 other colors\n",
    "    ax = sns.histplot(data=temp_level, x='value', y='RawStain', hue='Distance to', bins=20, ax=ax, pthresh=0.05)\n",
    "    ax.set_title(f'Level {level}')\n",
    "    plt.ylabel('Signal (AU)')\n",
    "    control_legend(ax, bbox_to_anchor=(1.05, 1), loc=2, borderaxespad=0.)\n",
    "plt.xticks([-50, -25, 0, 25, 50], [50, 25, 0, 25, 50])\n",
    "plt.xlabel('Distance (pixels)')\n",
    "\n",
    "plt.savefig(output_path + 'Hist2D_Dist2Both_Levels', dpi=400, bbox_inches='tight')\n",
    "plt.show()"
   ]
  },
  {
   "cell_type": "code",
   "execution_count": null,
   "metadata": {},
   "outputs": [],
   "source": []
  }
 ],
 "metadata": {
  "interpreter": {
   "hash": "8839425e98a0257b6167f03122a3786260aaa8d24359ae46f7cd4e1b2ac61b5f"
  },
  "kernelspec": {
   "display_name": "Python 3.9.7 64-bit ('chitinase': conda)",
   "language": "python",
   "name": "python3"
  },
  "language_info": {
   "codemirror_mode": {
    "name": "ipython",
    "version": 3
   },
   "file_extension": ".py",
   "mimetype": "text/x-python",
   "name": "python",
   "nbconvert_exporter": "python",
   "pygments_lexer": "ipython3",
   "version": "3.9.7"
  },
  "orig_nbformat": 4
 },
 "nbformat": 4,
 "nbformat_minor": 2
}
